{
  "nbformat": 4,
  "nbformat_minor": 0,
  "metadata": {
    "colab": {
      "provenance": [],
      "include_colab_link": true
    },
    "kernelspec": {
      "name": "python3",
      "display_name": "Python 3"
    },
    "language_info": {
      "name": "python"
    }
  },
  "cells": [
    {
      "cell_type": "markdown",
      "metadata": {
        "id": "view-in-github",
        "colab_type": "text"
      },
      "source": [
        "<a href=\"https://colab.research.google.com/github/Charlsz/optimizacion_202503/blob/main/Class_1.ipynb\" target=\"_parent\"><img src=\"https://colab.research.google.com/assets/colab-badge.svg\" alt=\"Open In Colab\"/></a>"
      ]
    },
    {
      "cell_type": "code",
      "source": [
        "!pip install sympy"
      ],
      "metadata": {
        "colab": {
          "base_uri": "https://localhost:8080/"
        },
        "id": "roasy_JcP45I",
        "outputId": "d6b3ea8c-3b11-44b3-cc13-f792eb92b9ff"
      },
      "execution_count": 1,
      "outputs": [
        {
          "output_type": "stream",
          "name": "stdout",
          "text": [
            "Requirement already satisfied: sympy in /usr/local/lib/python3.11/dist-packages (1.13.1)\n",
            "Requirement already satisfied: mpmath<1.4,>=1.1.0 in /usr/local/lib/python3.11/dist-packages (from sympy) (1.3.0)\n"
          ]
        }
      ]
    },
    {
      "cell_type": "markdown",
      "source": [
        "Encontrar $e$ con una pre de $10^{-4}$"
      ],
      "metadata": {
        "id": "MJbiEe7QQQDa"
      }
    },
    {
      "cell_type": "code",
      "source": [
        "from sympy import symbols, exp, series\n",
        "\n",
        "x = symbols('x')\n",
        "f = exp(x)\n",
        "taylor = series(f, x, 0, 6)  # up to x^5 (6th order includes O(x^6))\n",
        "taylor"
      ],
      "metadata": {
        "colab": {
          "base_uri": "https://localhost:8080/",
          "height": 54
        },
        "id": "da4IXEohQKui",
        "outputId": "e390ec49-fabb-4210-dcc1-49a1c5d9e446"
      },
      "execution_count": 5,
      "outputs": [
        {
          "output_type": "execute_result",
          "data": {
            "text/plain": [
              "1 + x + x**2/2 + x**3/6 + x**4/24 + x**5/120 + O(x**6)"
            ],
            "text/latex": "$\\displaystyle 1 + x + \\frac{x^{2}}{2} + \\frac{x^{3}}{6} + \\frac{x^{4}}{24} + \\frac{x^{5}}{120} + O\\left(x^{6}\\right)$"
          },
          "metadata": {},
          "execution_count": 5
        }
      ]
    },
    {
      "cell_type": "code",
      "source": [
        "import math as mt\n",
        "import numpy as np\n",
        "import matplotlib.pyplot as plt\n",
        "\n",
        "n = np.arange(1,10)\n",
        "r = np.array([3/mt.factorial(ni+1) for ni in n], dtype=np.float32) #list comprehension\n"
      ],
      "metadata": {
        "id": "N_ZMbZLimOrS"
      },
      "execution_count": 16,
      "outputs": []
    },
    {
      "cell_type": "code",
      "source": [
        "n"
      ],
      "metadata": {
        "colab": {
          "base_uri": "https://localhost:8080/"
        },
        "id": "WUiDCinnnpgd",
        "outputId": "7c49ae8b-86e1-4d98-a3e5-80f296fab92c"
      },
      "execution_count": 17,
      "outputs": [
        {
          "output_type": "execute_result",
          "data": {
            "text/plain": [
              "array([1, 2, 3, 4, 5, 6, 7, 8, 9])"
            ]
          },
          "metadata": {},
          "execution_count": 17
        }
      ]
    },
    {
      "cell_type": "code",
      "source": [
        "r"
      ],
      "metadata": {
        "colab": {
          "base_uri": "https://localhost:8080/"
        },
        "id": "6veTzFLtnIIV",
        "outputId": "802c2f1c-4227-471a-9b06-e3a851448ce2"
      },
      "execution_count": 18,
      "outputs": [
        {
          "output_type": "execute_result",
          "data": {
            "text/plain": [
              "array([1.5000000e+00, 5.0000000e-01, 1.2500000e-01, 2.5000000e-02,\n",
              "       4.1666669e-03, 5.9523812e-04, 7.4404765e-05, 8.2671959e-06,\n",
              "       8.2671960e-07], dtype=float32)"
            ]
          },
          "metadata": {},
          "execution_count": 18
        }
      ]
    },
    {
      "cell_type": "code",
      "source": [
        "plt.figure(figsize=(10,5))\n",
        "plt.grid()\n",
        "plt.plot(n,r, '--o', ms=10)\n",
        "plt.xlabel('n')\n",
        "plt.ylabel('r')\n",
        "plt.yscale('log')\n",
        "plt.show()"
      ],
      "metadata": {
        "colab": {
          "base_uri": "https://localhost:8080/",
          "height": 465
        },
        "id": "TuAFunnKot8A",
        "outputId": "7fc871da-0348-4d18-850b-f92218b4409e"
      },
      "execution_count": 25,
      "outputs": [
        {
          "output_type": "display_data",
          "data": {
            "text/plain": [
              "<Figure size 1000x500 with 1 Axes>"
            ],
            "image/png": "[encoded data removed]"
          },
          "metadata": {}
        }
      ]
    },
    {
      "cell_type": "markdown",
      "source": [
        "# Aproximar $\\sin(x)$ para $x \\in [0,\\,1]$ con una presición de $\\epsilon$ = $10^{-6}$"
      ],
      "metadata": {
        "id": "oq7oaOjKqNcm"
      }
    },
    {
      "cell_type": "code",
      "source": [
        "from sympy import symbols, sin, series\n",
        "\n",
        "x = symbols('x')\n",
        "f = sin(x)\n",
        "taylor = series(f, x, 0, 20)  # up to x^5 (6th order includes O(x^6))\n",
        "taylor"
      ],
      "metadata": {
        "colab": {
          "base_uri": "https://localhost:8080/",
          "height": 54
        },
        "id": "cJjlsCuXqwrr",
        "outputId": "fe37f478-cf00-4dcc-8586-6edd0cf28d85"
      },
      "execution_count": 27,
      "outputs": [
        {
          "output_type": "execute_result",
          "data": {
            "text/plain": [
              "x - x**3/6 + x**5/120 - x**7/5040 + x**9/362880 - x**11/39916800 + x**13/6227020800 - x**15/1307674368000 + x**17/355687428096000 - x**19/121645100408832000 + O(x**20)"
            ],
            "text/latex": "$\\displaystyle x - \\frac{x^{3}}{6} + \\frac{x^{5}}{120} - \\frac{x^{7}}{5040} + \\frac{x^{9}}{362880} - \\frac{x^{11}}{39916800} + \\frac{x^{13}}{6227020800} - \\frac{x^{15}}{1307674368000} + \\frac{x^{17}}{355687428096000} - \\frac{x^{19}}{121645100408832000} + O\\left(x^{20}\\right)$"
          },
          "metadata": {},
          "execution_count": 27
        }
      ]
    },
    {
      "cell_type": "markdown",
      "source": [
        "$$\n",
        "\\sin(x) = \\sum_{K=0}^{\\infty} (-1)^K \\, \\frac{x^{2K+1}}{(2K+1)!}\n",
        "$$\n"
      ],
      "metadata": {
        "id": "oPcB-FtUsKsx"
      }
    },
    {
      "cell_type": "code",
      "source": [
        "from sympy import diff\n",
        "\n",
        "for n in range (0,10):\n",
        "  print(n, diff(f, x, n), diff(f, x, n).subs({x:0}))"
      ],
      "metadata": {
        "colab": {
          "base_uri": "https://localhost:8080/"
        },
        "id": "tTE4XAmKsmM1",
        "outputId": "93874efb-3095-4b73-8a36-9def6ecec1a8"
      },
      "execution_count": 36,
      "outputs": [
        {
          "output_type": "stream",
          "name": "stdout",
          "text": [
            "0 sin(x) 0\n",
            "1 cos(x) 1\n",
            "2 -sin(x) 0\n",
            "3 -cos(x) -1\n",
            "4 sin(x) 0\n",
            "5 cos(x) 1\n",
            "6 -sin(x) 0\n",
            "7 -cos(x) -1\n",
            "8 sin(x) 0\n",
            "9 cos(x) 1\n"
          ]
        }
      ]
    },
    {
      "cell_type": "code",
      "source": [],
      "metadata": {
        "id": "leApr0edwvET"
      },
      "execution_count": 38,
      "outputs": []
    }
  ]
}